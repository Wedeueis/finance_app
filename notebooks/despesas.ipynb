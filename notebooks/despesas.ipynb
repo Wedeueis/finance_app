{
 "cells": [
  {
   "cell_type": "markdown",
   "metadata": {},
   "source": [
    "### Relação de despesas Mensais"
   ]
  },
  {
   "cell_type": "code",
   "execution_count": 11,
   "metadata": {},
   "outputs": [],
   "source": [
    "from enum import Enum\n",
    "\n",
    "from fastapi import FastAPI\n",
    "from pydantic import BaseModel\n"
   ]
  },
  {
   "cell_type": "code",
   "execution_count": 12,
   "metadata": {},
   "outputs": [],
   "source": [
    "## Data Model\n",
    "\n",
    "class Categoria(Enum):\n",
    "    MORADIA = 'moradia',\n",
    "    SAUDE = 'saude', \n",
    "    BANCO = 'banco', \n",
    "    ADA = 'ada', \n",
    "    PESSOAL = 'pessoal', \n",
    "    TRANSPORTE = 'transporte', \n",
    "    DIVERSOS = 'diversos',\n",
    "    EDUCACAO = 'educacao', \n",
    "    LAZER = 'lazer'\n",
    "\n",
    "class DespesaDataModel(BaseModel):\n",
    "    dia: int\n",
    "    mes: int\n",
    "    ano: int\n",
    "    categoria: str\n",
    "    nome: str\n",
    "    valor: float\n",
    "\n"
   ]
  },
  {
   "cell_type": "code",
   "execution_count": 13,
   "metadata": {},
   "outputs": [],
   "source": [
    "app = FastAPI()"
   ]
  },
  {
   "cell_type": "code",
   "execution_count": 14,
   "metadata": {},
   "outputs": [],
   "source": [
    "despesas ={\n",
    "    0: DespesaDataModel(ano=2024, mes=9, dia=24, categoria=Categoria.PESSOAL, nome=\"IFOOD\", valor=155),\n",
    "    1: DespesaDataModel(ano=2024, mes=9, dia=24, categoria=Categoria.TRANSPORTE, nome=\"UBER\", valor=44),\n",
    "    2: DespesaDataModel(ano=2024, mes=9, dia=24, categoria=Categoria.MORADIA, nome=\"aluguel\", valor=3500)\n",
    "}"
   ]
  },
  {
   "cell_type": "code",
   "execution_count": 15,
   "metadata": {},
   "outputs": [],
   "source": [
    "@app.get(\"/\")\n",
    "def index() -> dict[str, dict[int, DespesaDataModel]]:\n",
    "    return {\"despesas\": despesas}"
   ]
  },
  {
   "cell_type": "code",
   "execution_count": null,
   "metadata": {},
   "outputs": [],
   "source": []
  }
 ],
 "metadata": {
  "kernelspec": {
   "display_name": ".venv",
   "language": "python",
   "name": "python3"
  },
  "language_info": {
   "codemirror_mode": {
    "name": "ipython",
    "version": 3
   },
   "file_extension": ".py",
   "mimetype": "text/x-python",
   "name": "python",
   "nbconvert_exporter": "python",
   "pygments_lexer": "ipython3",
   "version": "3.10.12"
  }
 },
 "nbformat": 4,
 "nbformat_minor": 2
}
